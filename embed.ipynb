{
 "cells": [
  {
   "cell_type": "code",
   "execution_count": 1,
   "id": "8d6a12ef",
   "metadata": {},
   "outputs": [
    {
     "name": "stderr",
     "output_type": "stream",
     "text": [
      "c:\\Users\\Vow\\AppData\\Local\\Programs\\Python\\Python311\\Lib\\site-packages\\tqdm\\auto.py:21: TqdmWarning: IProgress not found. Please update jupyter and ipywidgets. See https://ipywidgets.readthedocs.io/en/stable/user_install.html\n",
      "  from .autonotebook import tqdm as notebook_tqdm\n"
     ]
    }
   ],
   "source": [
    "# Section 1: 加载必要的库\n",
    "import os\n",
    "import pandas as pd\n",
    "import numpy as np\n",
    "from transformers import AutoModel, AutoTokenizer\n",
    "import json"
   ]
  },
  {
   "cell_type": "code",
   "execution_count": 2,
   "id": "6509ce43",
   "metadata": {},
   "outputs": [],
   "source": [
    "# Section 2: 加载模型和分词器\n",
    "device = \"cpu\"  # 可切换为 \"cuda\" 如果有 GPU 支持\n",
    "model_path = \"Alibaba-NLP/gte-modernbert-base\"\n",
    "local_model_path = \"./模型\"  # 替换为本地模型路径\n",
    "\n",
    "if os.path.exists(local_model_path):\n",
    "    tokenizer = AutoTokenizer.from_pretrained(local_model_path)\n",
    "    model = AutoModel.from_pretrained(local_model_path).to(device)\n",
    "else:\n",
    "    tokenizer = AutoTokenizer.from_pretrained(model_path)\n",
    "    model = AutoModel.from_pretrained(model_path).to(device)"
   ]
  },
  {
   "cell_type": "code",
   "execution_count": 3,
   "id": "0fca5274",
   "metadata": {},
   "outputs": [],
   "source": [
    "# Section 3: 定义嵌入函数\n",
    "def embedding(model, tokenizer, input_texts):\n",
    "    \"\"\"\n",
    "    将输入文本转换为嵌入向量。\n",
    "    :param model: 加载的模型\n",
    "    :param tokenizer: 加载的分词器\n",
    "    :param input_texts: List[str]，待嵌入的文本列表\n",
    "    :return: 嵌入向量的 numpy 数组\n",
    "    \"\"\"\n",
    "    batch_dict = tokenizer(input_texts, max_length=5000, padding=True, truncation=True, return_tensors='pt')\n",
    "    batch_dict = {k: v.to(device) for k, v in batch_dict.items()}\n",
    "    outputs = model(**batch_dict)\n",
    "    embeddings = outputs.last_hidden_state[:, 0]\n",
    "    return embeddings.cpu().detach().numpy()"
   ]
  },
  {
   "cell_type": "code",
   "execution_count": 4,
   "id": "96681905",
   "metadata": {},
   "outputs": [
    {
     "name": "stdout",
     "output_type": "stream",
     "text": [
      "数据集大小: (1072, 3)\n"
     ]
    },
    {
     "data": {
      "application/vnd.microsoft.datawrangler.viewer.v0+json": {
       "columns": [
        {
         "name": "index",
         "rawType": "int64",
         "type": "integer"
        },
        {
         "name": "游戏应用ID",
         "rawType": "int64",
         "type": "integer"
        },
        {
         "name": "About the game",
         "rawType": "object",
         "type": "string"
        },
        {
         "name": "Reviews",
         "rawType": "object",
         "type": "string"
        }
       ],
       "ref": "23de8442-8929-46ff-94dd-937703c60b9b",
       "rows": [
        [
         "0",
         "396680",
         "A solo indie title from Chris Parsons, Sol Trader is a genre-busting space simulation where it's not about what you know - it's who you know. In Sol Trader you trade not only goods but ships, components, minerals, favours, contacts and information too. Single-player combination of top down 2D spaceflight and strategic manipulation of your network of contacts Run missions using your family and friends' connections to government or business No ship given to you at game start: you must take a loan and hire a ship, or borrow one from a wealthy relative Fly between planets, interacting with the various characters you come across in cities and in space Research information on other characters through chatting to friends and relatives Customise your ship with better guns, engines, hyperdrives and passenger cabins Trade goods for profit Procedural generation of a whole society of thousands of random characters Start every new game from your character's birth Choose your parents and all your major life choices as you grow up Your choices determine your personality and your friends, relatives and enemies Full modding support: change all the organisations, events, weapons, planets, ships, conversations and tutorial system. 200 years of characters Each new game is already two centuries old. Thousands of random characters are born, live and die as the game is generated, creating totally unique societies each time. When starting a new game you do so from your character's birth, choosing your parents and all your major life choices as you grow up. Your choices determine your personality, your friends, relatives, business contacts and your enemies. There is no set story. The game generates thousands of characters, events and interactions to set the scene: as a player, you are born into this world and form relationships in it before the game starts. You’ll then be able to create your own legend within this world: explore the known (and unknown) solar system, trade goods, run missions, leverage your contacts, and avenge members of your family as you see fit. This game features a complex procedural history generator, inspired by the adventure and legends mode in Dwarf Fortress. Each new game is already two centuries old, with a living history full of characters that are born, live and die before you even exist. When you create a character in this world, you face the same choices as all the computer-controlled citizens did. The decisions you make in your character’s early life set your starting skills and attributes, and your family connections and business contacts. The game universe stretches to the far reaches of our current solar system. In certain regions travel is very unsafe: pirates are known to hang out near the major gates. You'll be able to purchase a variety of ships and be able to own more than one at once. Ships can be fitted with a variety of equipment, including better guns, hyperdrives and engines, depending on what their hulls are designed to take. You will inevitably take damage and your ship can be repaired by mechanics that you will meet on your journey. Making friends with a good mechanic will make all the difference when you return half-alive from the Callisto water run... It's not what you know... You land at London's space port and immediately head to the market to see if an old contact of yours, Caleb Churley, will still give you a good deal on your cargo. Whilst offloading your titanium delivery, you discover through chatting to Caleb that he needs a parcel taking to Vikon on Venus. It's a bit of a distance, but you know they're short of water at the moment, so you buy all you can fit into your small ship. Caleb's grateful for the parcel delivery, so you get a good price on the cargo. You drop by the bar on the way out, and discover that Rachel Holden was seen in Vikon recently. You've been meaning to try and track her down, as you've been asked by the local crime syndicate to keep them up to date with her whereabouts. This little trip is turning into the perfect excuse to handle some unfinished business. You debate whether to take passengers to Vikon. Your ship isn't fitted with passenger cabins yet, but it's worth seeing who wants to go. In a local hotel you find three people keen to go: almost too keen. They're willing to pay way over the odds for transport, which means you're likely to have someone on your tail once you leave Earth's safe zone. It's a risk, but you could really do with the money... plus one of the passengers is the son of Charles Heckler, someone you'd love to get to know...",
         "“Sol Trader is great fun and is a must-play.” Very Biased Reviews “A game of surprising freedom and depth.” Gamewatcher “Well worth a look.” The Video Game Almanac"
        ],
        [
         "1",
         "1287530",
         "Experience a highly complex simulation of markets within a sophisticated feudal city-builder. The royals entrusted you to settle and govern a new land, and it is your duty to exploit its riches for the benefit of the realm, your own wealth, and if you feel generous, the villagers alike! In order to do this, you will zone out plots, build houses, determine taxation policies, set priorities, and grow the supply chain alongside your population. Families are the centrepiece of Lords and Villeins. Their profession dictates their occupation in the economy and the kind of businesses they can run. Once you assign them a plot of land and build their house, they will do so almost completely autonomously, all the while managing their stock, setting aside produce to pay taxes, and trading with other families and caravans for supplies and to maximise their profit. Your role is to direct and regulate the economy. Balance the supply and demand, secure critical resources, and maintain stable growth. Lords and Villeins offers you a sandbox with an in-depth simulation and a great variety of strategies to manage it! Ranging from a fully communist economy where all produce is taxed and redistributed from your warehouse to a free marketplace with little to no intervention. Logistics will challenge your management skills. As your settlement grows, you need to keep in mind the travelling distances, storage placements, private markets, and housing while reflecting on the terrain and its natural resources in order to fully optimise the productivity of each villager. Highly customizable gameplay lets you craft the exact kind of game that fits your taste! Between a great variety of game modules and difficulty sliders, you can tweak the experience and focus on the elements of the game that you enjoy the most. While Lords and Villeins is primarily an economically driven game and military conflict plays only a small role, there are tons of options to explore and play with! Unique family-management mechanic where you assign plots of land to autonomous families and manage taxation policies, production priorities and logistics In-depth simulation of personal ownership and a market economy. Villagers manage storefronts to sell surplus goods and purchase food and material from others in a cooperative production chain. Prices of goods fluctuate based on supply and demand, and trading caravans facilitate import and export. Fully simulated procedurally generated environment with a complex AI that can develop relationships, satisfy their needs, daily routines and personal ambitions. Highly customizable difficulty settings, it is completely up to you how complex or laid-back your playthrough will be! Campaign mode with 15 distinct levels that introduce game mechanics and teach players about the game. Noble houses that visit your settlement, request resources and send gifts as you engage in diplomatic relations. Ability to build a sprawling monastery with monks, churches and chapels that host the Sunday Mass, produce unique resources and treat villagers in an outburst of a sickness. Villagers can be recruited as your personal servants or guards that protect villagers from crime. Character designer lets you fully customise and name everyone in your ruling family. 160+ objects at your disposal to build, decorate and improve your settlement. 53 different zones and 40 professions that can be performed by the villagers. 130+ resources to be used in a fully functional production chain. A number of domesticated animals and pets and thriving nature with wildlife. Visually distinct seasons with a soundtrack of seasonal themes. Fully simulated and dynamic world with changing temperature and weather effects. Lords and Villeins is inspired by medieval history, in its themes and the production processes of goods and material. However, it should not be viewed as a historically accurate simulation of medieval society and its economy as it is straying away from it in many aspects to give players more variety and serve a fun and interesting gameplay.",
         "“You never know what new oddities will await you on your magical mystery tour, but they always make you smile. Highly recommended.” FreeGamePlanet"
        ],
        [
         "2",
         "985830",
         "TO BE CONTINUED IN... / UNLEASH YOUR RAGE Become a demonic priestess of lust - Vydija, and use her unique skills to take revenge on your enemies. Regain your kingdom making hell tremble under your hooves! Leave no one alive if they won't bend the knee. SURVIVE THE DOWNFALL You are the Succubus – a wild and lustful demon who rejected the role of the queen of the infernal abyss. -With the disappearance of the legitimate rulers of Hell, the remaining demons recognized Nimrod as their ruler, because he was the only soul who could dominate the mind of the mighty Beast. By raising his new empire from the corpses of sinners, the new king, along with his new queen – you – managed to control the chaos left by former rulers. The life of luxury and walking on rugs sewn from the skins of martyrs was not for you though, and so you have chosen a life in the wilderness. You inflict pain by hurting everyone and everything in your path to satisfy your apetites and primal instincts The moment you meet the powerful Baphomet who, together with his army, is going to get the soul of Nimrod, you are captured and maimed. Betrayed by your own species you are left with only one goal that matters – revenge! DOMINATE HELL You are the greatest terror in this brutal world. Teach your opponents that standing in your way is the biggest mistake they could make. Become the judge and the executioner and unleash your rage both on the damned souls and the demons that will challenge you. Climb the steep rocks, seduce your opponents and avoid the traps of this living, pulsating hell. Inflict suffering, mutilate, murder and free your wrath to regain your rightful rule of the hellish dominion! CUSTOMIZE YOUR SUCCUBUS Use the advanced character editor to modify the appearance of the main character to suit your preferences. CUSTOMIZE YOUR MAIN HUB Develop the cave of the main character by modifying its appearance and the possibilities it gives. Use the training arena to test new weapons and powers. Navigate hell by using the world map and unlock new levels and ranking arenas. UNWIND YOUR SKILLS Gain experience by killing other beings and then use it to upgrade your basic skills and unlock additional, more powerful and brutal ones. Unlock new special powers to control the fight more effectively. RIP AND TEAR! Use your weapons and unique armor to deal with your opponents. Attack enemies with your claws or wield the bone swords, clubs and other weapons. Massacre your enemies, leaving behind the ocean of cut limbs and charred corpses. SUCCUBUS - main features: ? Intense and brutal action using 40 different weapons and 20 special powers ? Diversified opponents ? World Map ? Character Customization ? Main Hub with customization option ? Rank Arenas with Online Leaderboards ? A system of weapons and armor that affect a player's statistics ? A rich and diverse world of Hell ? A multi-story plot combining horror with action and survival ? A hostile environment full of traps and enemies ? Surreal visual setting and gore ?",
         "“It's insanely violent, it's reprehensible, and it's unashamed. Succubus may not push any gameplay boundaries, but it's one hell of a good time as long as you have a cast-iron stomach.” 7,5 – PC Invasion “Definitely a game I recommend to action-focused players that can handle an adults-only rated experience.” 8 – Gametyrant “The amount of different stuff to do and the visceral enjoyment of tearing through wave after wave of enemies make it 1000 times more worthwhile than Agony could ever have aspired to be.” 7 – Tech Raptor"
        ],
        [
         "3",
         "660160",
         "Field of Glory II?is a turn-based tactical game set during the Rise of Rome from 280 BC to 25 BC The game that brought the fun and excitement of the tabletop experience to digital form is back. Developed by legendary designer Richard Bodley Scott in a completely new 3D engine, Field of Glory is ready to set new standards in computer wargaming. Field of Glory II allows you to fight large or small battles for or against Rome, or between the other nations who are as yet unaware of the Roman threat, or what-if battles between nations that never actual came into conflict historically, but might have done if the course of history had been different. Take command of a huge variety of armies employing vastly different tactical doctrines. Lead your chosen army and its named generals to victory in set-piece historical battles or 'what-if' custom battle situations against an AI or human opponent. Victory will require determination and tactical mastery! FEATURES Accurate simulation of Ancient battle in the last three centuries of the pre-Christian era. 86 historically accurate units, built from fully animated 3D troop models, each with many variants. These allow Field of Glory II to represent the full range of troop-types and tactical doctrines that make this era one of the most interesting to wargamers and military historians. To name just a few, there are Roman legionaries before and after the reforms of Marius, Greek hoplite and Carthaginian African spearmen, Hellenistic pike phalanxes, thureophoroi spearmen and xystophoroi lancers, Gallic warbands, Skythian horse archers, Sarmatian lancers, Roman, Carthaginian, Greek and Gallic spear-armed cavalry, war elephants, Celtic and Indian chariots, scythed chariots, a wealth of light troops and many many more. 12 Historical scenarios covering key engagements of the period on an epic scale. These include Bagradas 255 BC, Trebia 218 BC, Cannae 216 BC, Ilipa 206 BC, Zama 202 BC, Magnesia 190 BC, Pydna 168 BC, Chaironeia 86 BC, Tigranocerta 69 BC, Bibracte 58 BC, Carrhae 53 BC and Thapsus 46 BC. The player can play as either side. Custom Battle system allows unlimited “what-if” scenarios using historically realistic armies from carefully researched army lists, on realistic computer generated terrain maps. Armies covered include Romans, Carthaginians, Hellenistic Kingdoms (Macedon, Seleucids, Ptolemaic Egypt etc.), Gauls, Ancient Britons, Galatians, Spanish, Numidians, Spartacus’s Slave Revolt, Thracians, Skythians, Sarmatians, Parthians, Indians and lots more. Campaign mode allows you to rewrite history as you play through the battlefield careers of some of ancient history’s greatest generals, or war with any ancient nation against any other. Each victory increases the experience and elan of your core units. Quick to resolve strategic decisions allow you to go straight from one battle to the next without any delay. Random map generator produces an infinite variety of historically realistic battlefield maps for custom battles and campaigns. Scenarios include open battle, pursuit, awaiting reinforcements, enemy awaiting reinforcements, flank march, rearguard action, advance guard, remove the head, and protect the baggage. Classic turn-based, tile based gameplay. Easy to use interface, hard to master gameplay. Cohort-sized units. Battles can range from a few units to as many as 80 units per side. Named generals who can influence combat and morale of units under their command. Single player and multiplayer battle modes. Effective AI makes sound tactical decisions. 6 difficulty levels allow the challenge to increase as you develop your battlefield skills. Numerous different unit organisations, combat capabilities and tactical doctrines allow full representation of tactical differences and developments through the period. Mod friendly game system with built-in map editor. Multiplayer mode allows historical scenarios and “what-if” scenarios to be played by two players using Slitherine’s easy to use PBEM server.",
         "“Turn-based strategy wargame experience that brings the best features of its previous tabletop and PC gaming outings together in a deep and enjoyable tactical experience” 8.5 – Game Watcher “Like its forerunners, FoGII produces gripping battle after gripping battle. Even the three tutorial skirmishes are absorbing” Rock Paper Shotgun “The games I played nearly always saw a slugfest until one side broke en masse and the slaughter began. This is what the tabletop game tended to portray and I am told, how it was for most of the ancient military era. When this sort of realism is fused with all of the above, this makes FOG2 a must buy” Wargamer"
        ],
        [
         "4",
         "457340",
         "A first-person, narrative-driven puzzle game Dimensional throws you into dangerous chambers to save an alien race. This is not a passive experience. To succeed, you'll have to feel and act as though you're really there. You'll be standing, moving around, manipulating objects with realistic physics and reacting to dangers. Nausea-free - a very comfortable experience that won't make you feel sick Real-life movement - walk, duck, dodge, lean, jump to avoid obstacles and search your environment. Only 1.2m x 50cm required to play. Full room-scale supported. Puzzles - you'll need brains, reflexes and precision to beat the chambers Explore - find the hidden messages and learn the truth Mic support - expect to be heard as well as seen Choice - teleporting for comfort + optional FPS-style controls More than just puzzles and action, I'm trying to put you in a variety of unique situations that can only be appreciated in VR. There's lots to experience including: Slide along a narrow ledge as a giant pendulum swings inches from your face Test your courage by jumping off a high platform. Carefully move your head through a narrow gap filled with spikes Knock blocks out of a wall without bringing the roof crashing down on your head Dodge and jump over lasers + lots more There's a story for you to find. It's up to you if you want to find the hidden messages and obscure areas and work out what's going on, or just play through the levels and enjoy the puzzles. Area required 1.2m x 50cm required to play Dimensional uses its own chaperone system which allows you to move around even if you only have a small playing area. If you don't think you have enough room, try the free demo first. You may be surprised how little room you need. The story A trans-dimensional race is being hunted to extinction. Many years ago humans helped them build hidden chambers on Earth to safely hide their offspring. Now the hunters have built machines to smash their way into the chambers. Can you rescue their offspring before it's too late? The chambers are filled with traps and challenges that can only be completed by a human working together with an alien droid. Your companion You're accompanied by Digby. He's not the brightest or happiest droid, but give him a target and he'll hit it. Use him to manipulate objects or for more destructive purposes. Think of Digby as your hands and fists. FPS-style controls FPS mode allows you to move using analogue sticks like traditional first person shooters. Only use FPS mode if it doesn't cause nausea. You can toggle between teleporting and FPS mode as required. You need to exit FPS mode to teleport. To activate: * On the HTC Vive, click the grip button to toggle FPS-mode on and off. Use the right track pad to rotate and the left track pad to move. * On the Oculus DK2 / Rift, hold down your left shoulder button (or right grip button for OculusTouch). Use the right analogue stick to rotate and the left to move. When in FPS mode you drive your floor grid around. For this to make sense you should face forwards (as indicated by directional arrows) before starting to move. Alternative see the in-game menu to change the forward direction to be controller by the direction of your laser pointer. An experimental game I'm a solo-developer and spend all my time experimenting in VR to see what works best. Dimensional is a result of my continuing experiments to see how to make the most of this new technology and create highly immersive experiences. Standing and using real-life movements is a key component. I wanted to allow as many people to play as possible so I use a custom chaperone system where you only need enough room to take a couple of steps forward. Teleporting provides a nausea-free way to move around, but FPS-style controls can be used if you prefer (teleporting is still required to jump over gaps and reach heights) Dimensional insists you move. You'll have to walk, crouch and lean as you explore and duck and even jump to avoid dangers. The ability and requirement to react as you would in real life increases immersion. Interacting with the environment and seeing it react as expected (including dynamic lighting and shadows) makes the chambers feel more believable. The microphone is used so that you can be seen and heard. Shout at droids (some will shoot at you), or activate sensors with your voice. To complete the chambers you'll need to solve problems as though you are really there rather than thinking about it like a typical game.",
         "“Recommendation: Solid and challenging grab for the price.” UploadVR"
        ]
       ],
       "shape": {
        "columns": 3,
        "rows": 5
       }
      },
      "text/html": [
       "<div>\n",
       "<style scoped>\n",
       "    .dataframe tbody tr th:only-of-type {\n",
       "        vertical-align: middle;\n",
       "    }\n",
       "\n",
       "    .dataframe tbody tr th {\n",
       "        vertical-align: top;\n",
       "    }\n",
       "\n",
       "    .dataframe thead th {\n",
       "        text-align: right;\n",
       "    }\n",
       "</style>\n",
       "<table border=\"1\" class=\"dataframe\">\n",
       "  <thead>\n",
       "    <tr style=\"text-align: right;\">\n",
       "      <th></th>\n",
       "      <th>游戏应用ID</th>\n",
       "      <th>About the game</th>\n",
       "      <th>Reviews</th>\n",
       "    </tr>\n",
       "  </thead>\n",
       "  <tbody>\n",
       "    <tr>\n",
       "      <th>0</th>\n",
       "      <td>396680</td>\n",
       "      <td>A solo indie title from Chris Parsons, Sol Tra...</td>\n",
       "      <td>“Sol Trader is great fun and is a must-play.” ...</td>\n",
       "    </tr>\n",
       "    <tr>\n",
       "      <th>1</th>\n",
       "      <td>1287530</td>\n",
       "      <td>Experience a highly complex simulation of mark...</td>\n",
       "      <td>“You never know what new oddities will await y...</td>\n",
       "    </tr>\n",
       "    <tr>\n",
       "      <th>2</th>\n",
       "      <td>985830</td>\n",
       "      <td>TO BE CONTINUED IN... / UNLEASH YOUR RAGE Beco...</td>\n",
       "      <td>“It's insanely violent, it's reprehensible, an...</td>\n",
       "    </tr>\n",
       "    <tr>\n",
       "      <th>3</th>\n",
       "      <td>660160</td>\n",
       "      <td>Field of Glory II?is a turn-based tactical gam...</td>\n",
       "      <td>“Turn-based strategy wargame experience that b...</td>\n",
       "    </tr>\n",
       "    <tr>\n",
       "      <th>4</th>\n",
       "      <td>457340</td>\n",
       "      <td>A first-person, narrative-driven puzzle game D...</td>\n",
       "      <td>“Recommendation: Solid and challenging grab fo...</td>\n",
       "    </tr>\n",
       "  </tbody>\n",
       "</table>\n",
       "</div>"
      ],
      "text/plain": [
       "    游戏应用ID                                     About the game  \\\n",
       "0   396680  A solo indie title from Chris Parsons, Sol Tra...   \n",
       "1  1287530  Experience a highly complex simulation of mark...   \n",
       "2   985830  TO BE CONTINUED IN... / UNLEASH YOUR RAGE Beco...   \n",
       "3   660160  Field of Glory II?is a turn-based tactical gam...   \n",
       "4   457340  A first-person, narrative-driven puzzle game D...   \n",
       "\n",
       "                                             Reviews  \n",
       "0  “Sol Trader is great fun and is a must-play.” ...  \n",
       "1  “You never know what new oddities will await y...  \n",
       "2  “It's insanely violent, it's reprehensible, an...  \n",
       "3  “Turn-based strategy wargame experience that b...  \n",
       "4  “Recommendation: Solid and challenging grab fo...  "
      ]
     },
     "execution_count": 4,
     "metadata": {},
     "output_type": "execute_result"
    }
   ],
   "source": [
    "# Section 4: 加载和处理数据\n",
    "# 加载 CSV 数据文件\n",
    "csv_file_path = \"c:\\\\Users\\\\Vow\\\\.vscode\\\\信存检\\\\小组作业\\\\autoSteam\\\\DBScripts\\\\steam_games_translated_final.csv\"\n",
    "data = pd.read_csv(csv_file_path, encoding=\"utf-8\")\n",
    "\n",
    "# 提取 `about the game` 和 `review` 字段\n",
    "data_subset = data[[\"游戏应用ID\", \"About the game\", \"Reviews\"]].dropna()\n",
    "\n",
    "# 检查数据\n",
    "print(f\"数据集大小: {data_subset.shape}\")\n",
    "data_subset.head()"
   ]
  },
  {
   "cell_type": "code",
   "execution_count": 5,
   "id": "748acdbc",
   "metadata": {},
   "outputs": [
    {
     "name": "stdout",
     "output_type": "stream",
     "text": [
      "成功生成嵌入向量的记录数: 1072\n"
     ]
    }
   ],
   "source": [
    "# Section 5: 生成嵌入向量\n",
    "# 定义一个函数来处理每一行数据\n",
    "def process_row(row):\n",
    "    try:\n",
    "        about_embedding = embedding(model, tokenizer, [row[\"About the game\"]])[0]\n",
    "        review_embedding = embedding(model, tokenizer, [row[\"Reviews\"]])[0]\n",
    "        return {\n",
    "            \"game_id\": row[\"游戏应用ID\"],\n",
    "            \"about_embedding\": about_embedding.tolist(),\n",
    "            \"review_embedding\": review_embedding.tolist()\n",
    "        }\n",
    "    except Exception as e:\n",
    "        print(f\"处理游戏 ID {row['游戏应用ID']} 时出错: {e}\")\n",
    "        return None\n",
    "\n",
    "# 对数据集进行处理\n",
    "embedding_results = []\n",
    "for _, row in data_subset.iterrows():\n",
    "    result = process_row(row)\n",
    "    if result:\n",
    "        embedding_results.append(result)\n",
    "\n",
    "print(f\"成功生成嵌入向量的记录数: {len(embedding_results)}\")"
   ]
  },
  {
   "cell_type": "code",
   "execution_count": 6,
   "id": "0cae15c8",
   "metadata": {},
   "outputs": [
    {
     "name": "stdout",
     "output_type": "stream",
     "text": [
      "嵌入结果已保存到: c:\\Users\\Vow\\.vscode\\信存检\\小组作业\\autoSteam\\embeddings.json\n"
     ]
    }
   ],
   "source": [
    "# Section 6: 保存嵌入结果\n",
    "# 定义保存路径\n",
    "output_file_path = \"c:\\\\Users\\\\Vow\\\\.vscode\\\\信存检\\\\小组作业\\\\autoSteam\\\\embeddings.json\"\n",
    "\n",
    "# 保存为 JSON 文件\n",
    "with open(output_file_path, \"w\", encoding=\"utf-8\") as f:\n",
    "    json.dump(embedding_results, f, ensure_ascii=False, indent=4)\n",
    "\n",
    "print(f\"嵌入结果已保存到: {output_file_path}\")"
   ]
  },
  {
   "cell_type": "code",
   "execution_count": 7,
   "id": "c9253e06",
   "metadata": {},
   "outputs": [
    {
     "name": "stdout",
     "output_type": "stream",
     "text": [
      "合并后的数据已保存到: c:\\Users\\Vow\\.vscode\\信存检\\小组作业\\autoSteam\\merged_steam_games_with_embeddings.csv\n"
     ]
    }
   ],
   "source": [
    "# 将嵌入结果转换为DataFrame\n",
    "embedding_df = pd.DataFrame(embedding_results)\n",
    "\n",
    "# 合并原始数据和嵌入数据\n",
    "merged_df = pd.merge(data, embedding_df, left_on=\"游戏应用ID\", right_on=\"game_id\", how=\"left\")\n",
    "\n",
    "# 保存为新的CSV文件\n",
    "merged_csv_path = \"c:\\\\Users\\\\Vow\\\\.vscode\\\\信存检\\\\小组作业\\\\autoSteam\\\\merged_steam_games_with_embeddings.csv\"\n",
    "merged_df.to_csv(merged_csv_path, index=False, encoding=\"utf-8-sig\")\n",
    "\n",
    "print(f\"合并后的数据已保存到: {merged_csv_path}\")"
   ]
  }
 ],
 "metadata": {
  "kernelspec": {
   "display_name": "Python 3",
   "language": "python",
   "name": "python3"
  },
  "language_info": {
   "codemirror_mode": {
    "name": "ipython",
    "version": 3
   },
   "file_extension": ".py",
   "mimetype": "text/x-python",
   "name": "python",
   "nbconvert_exporter": "python",
   "pygments_lexer": "ipython3",
   "version": "3.11.5"
  }
 },
 "nbformat": 4,
 "nbformat_minor": 5
}
